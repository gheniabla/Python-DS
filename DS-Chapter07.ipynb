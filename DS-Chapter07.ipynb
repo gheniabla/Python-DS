{
 "cells": [
  {
   "cell_type": "markdown",
   "id": "4e9642c6",
   "metadata": {},
   "source": [
    "<a href=\"https://colab.research.google.com/github/gheniabla/DataStructures/blob/main/chapters/DS-Chapter07.ipynb\" target=\"_parent\"><img src=\"https://colab.research.google.com/assets/colab-badge.svg\" alt=\"Open In Colab\"/></a>"
   ]
  },
  {
   "cell_type": "markdown",
   "id": "b9d5a6b3",
   "metadata": {},
   "source": [
    "# DS-Chapter 07 – Linked Lists"
   ]
  },
  {
   "cell_type": "markdown",
   "id": "d4128271",
   "metadata": {},
   "source": [
    "\n",
    "A **linked list** is a linear data structure where each element (called a *node*) is a separate object. Each node contains two parts:\n",
    "\n",
    "- **Data**: The actual value.\n",
    "- **Pointer**: A reference to the next node in the sequence.\n",
    "\n",
    "Unlike arrays or lists in Python, linked lists do **not** store elements in contiguous memory. This allows for efficient insertions and deletions, especially when the position is known.\n",
    "\n",
    "### Types of Linked Lists\n",
    "- **Singly Linked List**: Each node points to the next node.\n",
    "- **Doubly Linked List**: Each node points to both the next and the previous nodes.\n",
    "- **Circular Linked List**: The last node points back to the head (not covered here).\n",
    "\n",
    "We'll implement and visualize the first two types in this notebook.\n"
   ]
  },
  {
   "cell_type": "markdown",
   "id": "97e1ca40",
   "metadata": {},
   "source": [
    "## 7.1 Singly Linked List\n",
    "Each node in a singly linked list contains:\n",
    "- a `data` field\n",
    "- a reference to the `next` node\n",
    "\n",
    "The list ends when the `next` is `None`.\n",
    "\n",
    "**Visualization:**\n",
    "`[10] -> [20] -> [30] -> None`\n",
    "\n",
    "Let's implement it in Python."
   ]
  },
  {
   "cell_type": "markdown",
   "id": "6a21aac8",
   "metadata": {},
   "source": [
    "## 7.1 Singly Linked List\n",
    "Each node holds data and a reference to the next node."
   ]
  },
  {
   "cell_type": "markdown",
   "id": "6a21aac8",
   "metadata": {},
   "source": [
    "## 7.1 Singly Linked List\n",
    "Each node holds data and a reference to the next node."
   ]
  },
  {
   "cell_type": "markdown",
   "id": "28c5ba0e",
   "metadata": {},
   "source": [
    "## 7.2 Doubly Linked List\n",
    "Each node has references to both the next and the previous node."
   ]
  },
  {
   "cell_type": "markdown",
   "id": "7063cb58",
   "metadata": {},
   "source": [
    "## 7.2 Doubly Linked List\n",
    "Each node in a doubly linked list has:\n",
    "- `data`\n",
    "- a `prev` pointer (to previous node)\n",
    "- a `next` pointer (to next node)\n",
    "\n",
    "**Visualization:**\n",
    "`None <- [A] <-> [B] <-> [C] -> None`\n",
    "\n",
    "This structure allows traversal in **both directions**.\n",
    "\n",
    "Let's implement it."
   ]
  },
  {
   "cell_type": "markdown",
   "id": "28c5ba0e",
   "metadata": {},
   "source": [
    "## 7.2 Doubly Linked List\n",
    "Each node has references to both the next and the previous node."
   ]
  },
  {
   "cell_type": "markdown",
   "id": "56ed944e",
   "metadata": {},
   "source": [
    "## 7.3 Common Operations\n",
    "### Singly Linked List\n",
    "- `append(data)` – Add a new node to the end\n",
    "- `prepend(data)` – Add to the beginning *(not implemented above)*\n",
    "- `delete(data)` – Remove a node by value *(you can add this)*\n",
    "- `search(data)` – Find a value *(exercise)*\n",
    "\n",
    "### Doubly Linked List\n",
    "- Traverse forward and backward\n",
    "- Insert before or after a node (needs pointer manipulation)"
   ]
  }
 ],
 "metadata": {},
 "nbformat": 4,
 "nbformat_minor": 5
}
