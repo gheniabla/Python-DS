{
 "cells": [
  {
   "cell_type": "markdown",
   "id": "8275597e",
   "metadata": {},
   "source": [
    "<a href=\"https://colab.research.google.com/github/gheniabla/DataStructures/blob/main/chapters/DS-Chapter05.ipynb\" target=\"_parent\"><img src=\"https://colab.research.google.com/assets/colab-badge.svg\" alt=\"Open In Colab\"/></a>"
   ]
  },
  {
   "cell_type": "markdown",
   "id": "90b22362",
   "metadata": {},
   "source": [
    "# DS-Chapter 05 – Algorithm Analysis"
   ]
  },
  {
   "cell_type": "markdown",
   "id": "53ff23c2",
   "metadata": {},
   "source": [
    "Understanding how efficient an algorithm is helps us choose the right one for a problem. In this chapter, we introduce basic algorithm analysis concepts including:\n",
    "\n",
    "- Time Complexity\n",
    "- Space Complexity\n",
    "- Big-O Notation\n",
    "- Growth Rate Comparison\n",
    "- Analyzing Python Code Examples"
   ]
  },
  {
   "cell_type": "markdown",
   "id": "4f83a9c3",
   "metadata": {},
   "source": [
    "## 5.1 Time Complexity\n",
    "Time complexity estimates how the runtime of an algorithm increases with input size `n`.\n",
    "\n",
    "**Examples:**\n",
    "- Constant time: O(1)\n",
    "- Linear time: O(n)\n",
    "- Quadratic time: O(n²)"
   ]
  },
  {
   "cell_type": "code",
   "execution_count": null,
   "id": "d74dc08e",
   "metadata": {},
   "outputs": [],
   "source": [
    "# O(1) – Constant time\n",
    "def get_first_element(lst):\n",
    "    return lst[0]\n",
    "\n",
    "# O(n) – Linear time\n",
    "def print_all(lst):\n",
    "    for item in lst:\n",
    "        print(item)\n",
    "\n",
    "# O(n^2) – Quadratic time\n",
    "def print_pairs(lst):\n",
    "    for i in lst:\n",
    "        for j in lst:\n",
    "            print(i, j)"
   ]
  },
  {
   "cell_type": "markdown",
   "id": "57c0ca27",
   "metadata": {},
   "source": [
    "## 5.2 Space Complexity\n",
    "Space complexity measures how much extra memory an algorithm uses.\n",
    "\n",
    "- Counting variables is O(1)\n",
    "- Creating new lists is O(n)"
   ]
  },
  {
   "cell_type": "code",
   "execution_count": null,
   "id": "aafa9a4a",
   "metadata": {},
   "outputs": [],
   "source": [
    "def sum_list(lst):\n",
    "    total = 0  # O(1) space\n",
    "    for num in lst:\n",
    "        total += num\n",
    "    return total\n",
    "\n",
    "def copy_list(lst):\n",
    "    new_lst = lst[:]  # O(n) space\n",
    "    return new_lst"
   ]
  },
  {
   "cell_type": "markdown",
   "id": "080dfcc1",
   "metadata": {},
   "source": [
    "## 5.3 Common Big-O Classes\n",
    "| Complexity | Example         |\n",
    "|------------|------------------|\n",
    "| O(1)       | Accessing array index |\n",
    "| O(log n)   | Binary search   |\n",
    "| O(n)       | Loop over array |\n",
    "| O(n log n) | Merge sort      |\n",
    "| O(n²)      | Nested loops    |"
   ]
  },
  {
   "cell_type": "markdown",
   "id": "5327efb1",
   "metadata": {},
   "source": [
    "## 5.4 Visualizing Growth Rates"
   ]
  },
  {
   "cell_type": "code",
   "execution_count": null,
   "id": "49f82ac6",
   "metadata": {},
   "outputs": [],
   "source": [
    "import matplotlib.pyplot as plt\n",
    "import numpy as np\n",
    "\n",
    "n = np.linspace(1, 100, 100)\n",
    "plt.plot(n, n, label='O(n)')\n",
    "plt.plot(n, np.log2(n), label='O(log n)')\n",
    "plt.plot(n, n * np.log2(n), label='O(n log n)')\n",
    "plt.plot(n, n**2, label='O(n^2)')\n",
    "plt.xlabel('Input size n')\n",
    "plt.ylabel('Steps')\n",
    "plt.title('Growth Rate Comparison')\n",
    "plt.legend()\n",
    "plt.grid(True)\n",
    "plt.show()"
   ]
  },
  {
   "cell_type": "markdown",
   "id": "c50613fe",
   "metadata": {},
   "source": [
    "## 5.5 Measuring Time in Python"
   ]
  },
  {
   "cell_type": "code",
   "execution_count": null,
   "id": "9ef608b7",
   "metadata": {},
   "outputs": [],
   "source": [
    "import time\n",
    "\n",
    "def slow_function():\n",
    "    time.sleep(1)\n",
    "\n",
    "start = time.time()\n",
    "slow_function()\n",
    "end = time.time()\n",
    "print(\"Execution time:\", end - start, \"seconds\")"
   ]
  }
 ],
 "metadata": {},
 "nbformat": 4,
 "nbformat_minor": 5
}
