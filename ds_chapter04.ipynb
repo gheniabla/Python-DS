{
  "cells": [
    {
      "cell_type": "markdown",
      "metadata": {
        "id": "view-in-github",
        "colab_type": "text"
      },
      "source": [
        "<a href=\"https://colab.research.google.com/github/gheniabla/Python-DS/blob/main/ds_chapter04.ipynb\" target=\"_parent\"><img src=\"https://colab.research.google.com/assets/colab-badge.svg\" alt=\"Open In Colab\"/></a>"
      ]
    },
    {
      "cell_type": "markdown",
      "id": "34a0f572",
      "metadata": {
        "id": "34a0f572"
      },
      "source": [
        "<a href=\"https://colab.research.google.com/github/gheniabla/DataStructures/blob/main/chapters/DS-Chapter04.ipynb\" target=\"_parent\"><img src=\"https://colab.research.google.com/assets/colab-badge.svg\" alt=\"Open In Colab\"/></a>"
      ]
    },
    {
      "cell_type": "markdown",
      "id": "79480428",
      "metadata": {
        "id": "79480428"
      },
      "source": [
        "# DS-Chapter 04 – Testing in Python"
      ]
    },
    {
      "cell_type": "markdown",
      "id": "c1674cf3",
      "metadata": {
        "id": "c1674cf3"
      },
      "source": [
        "Testing is an essential part of writing reliable software. In this chapter, we will learn how to write tests in Python to:\n",
        "- Check correctness of your code\n",
        "- Catch bugs early\n",
        "- Ensure future changes don’t break existing functionality\n",
        "\n",
        "**Types of testing covered:**\n",
        "- Manual testing with `assert`\n",
        "- Unit testing with `unittest`\n",
        "- Test-Driven Development (TDD) basics"
      ]
    },
    {
      "cell_type": "markdown",
      "id": "a338393a",
      "metadata": {
        "id": "a338393a"
      },
      "source": [
        "## 4.1 Writing Basic Tests with `assert`\n",
        "`assert` statements verify that conditions hold true. If they don't, Python raises an `AssertionError`."
      ]
    },
    {
      "cell_type": "code",
      "execution_count": null,
      "id": "79fe4cf6",
      "metadata": {
        "colab": {
          "base_uri": "https://localhost:8080/"
        },
        "id": "79fe4cf6",
        "outputId": "e9ea134e-7d7e-49e3-c24a-cf7f6e902fbb"
      },
      "outputs": [
        {
          "output_type": "stream",
          "name": "stdout",
          "text": [
            "All tests passed.\n"
          ]
        }
      ],
      "source": [
        "def square(x):\n",
        "    return x * x\n",
        "\n",
        "# Tests\n",
        "assert square(2) == 4\n",
        "assert square(-3) == 9\n",
        "print(\"All tests passed.\")"
      ]
    },
    {
      "cell_type": "markdown",
      "id": "8c0bc2cc",
      "metadata": {
        "id": "8c0bc2cc"
      },
      "source": [
        "## 4.2 Unit Testing with `unittest`\n",
        "The `unittest` module provides a structured way to organize and run tests.\n",
        "\n",
        "**Key features:**\n",
        "- Tests are grouped in classes\n",
        "- Each test is a method that starts with `test_`\n",
        "- Use `self.assertEqual`, `self.assertTrue`, etc."
      ]
    },
    {
      "cell_type": "code",
      "execution_count": null,
      "id": "91ca9e70",
      "metadata": {
        "colab": {
          "base_uri": "https://localhost:8080/"
        },
        "id": "91ca9e70",
        "outputId": "ba002c1a-d66a-4ce4-b0e8-7911e9d965ca"
      },
      "outputs": [
        {
          "output_type": "stream",
          "name": "stderr",
          "text": [
            "test_add_negative (__main__.TestMath.test_add_negative) ... ok\n",
            "test_add_positive (__main__.TestMath.test_add_positive) ... ok\n",
            "\n",
            "----------------------------------------------------------------------\n",
            "Ran 2 tests in 0.003s\n",
            "\n",
            "OK\n"
          ]
        },
        {
          "output_type": "execute_result",
          "data": {
            "text/plain": [
              "<unittest.main.TestProgram at 0x7ae428d68fb0>"
            ]
          },
          "metadata": {},
          "execution_count": 2
        }
      ],
      "source": [
        "import unittest\n",
        "\n",
        "def add(x, y):\n",
        "    return x + y\n",
        "\n",
        "class TestMath(unittest.TestCase):\n",
        "    def test_add_positive(self):\n",
        "        self.assertEqual(add(2, 3), 5)\n",
        "\n",
        "    def test_add_negative(self):\n",
        "        self.assertEqual(add(-1, -1), -2)\n",
        "\n",
        "# Run tests\n",
        "unittest.main(argv=[''], verbosity=2, exit=False)"
      ]
    },
    {
      "cell_type": "markdown",
      "id": "3b064106",
      "metadata": {
        "id": "3b064106"
      },
      "source": [
        "## 4.3 Test-Driven Development (TDD)\n",
        "**TDD** is a practice where you write tests *before* writing the actual code.\n",
        "\n",
        "**TDD cycle:**\n",
        "1. Write a failing test\n",
        "2. Write the minimum code to pass the test\n",
        "3. Refactor code\n",
        "\n",
        "Let’s walk through an example of a simple `is_even` function."
      ]
    },
    {
      "cell_type": "code",
      "execution_count": null,
      "id": "b2856b55",
      "metadata": {
        "colab": {
          "base_uri": "https://localhost:8080/"
        },
        "id": "b2856b55",
        "outputId": "dbdd7bb2-b243-46dd-8fd2-6279088fb4b4"
      },
      "outputs": [
        {
          "output_type": "stream",
          "name": "stdout",
          "text": [
            "is_even tests passed\n"
          ]
        }
      ],
      "source": [
        "# Step 1: Write the test (it should fail at first)\n",
        "def is_even(n):\n",
        "    return n % 2 == 0\n",
        "\n",
        "assert is_even(2) == True\n",
        "assert is_even(3) == False\n",
        "print(\"is_even tests passed\")"
      ]
    },
    {
      "cell_type": "markdown",
      "id": "e13bf204",
      "metadata": {
        "id": "e13bf204"
      },
      "source": [
        "## 4.4 What to Test\n",
        "**Tips:**\n",
        "- Test normal cases, edge cases, and invalid input\n",
        "- Convert past bugs into tests\n",
        "- Test public interfaces, not internal implementation"
      ]
    },
    {
      "cell_type": "code",
      "execution_count": null,
      "id": "1e6b04e5",
      "metadata": {
        "colab": {
          "base_uri": "https://localhost:8080/"
        },
        "id": "1e6b04e5",
        "outputId": "5c98323e-72aa-4660-dc39-23215439a155"
      },
      "outputs": [
        {
          "output_type": "stream",
          "name": "stdout",
          "text": [
            "divide() tests passed\n"
          ]
        }
      ],
      "source": [
        "def divide(a, b):\n",
        "    if b == 0:\n",
        "        return None\n",
        "    return a / b\n",
        "\n",
        "# Tests\n",
        "assert divide(10, 2) == 5\n",
        "assert divide(5, 0) is None\n",
        "print(\"divide() tests passed\")"
      ]
    }
  ],
  "metadata": {
    "colab": {
      "provenance": [],
      "include_colab_link": true
    },
    "language_info": {
      "name": "python"
    },
    "kernelspec": {
      "name": "python3",
      "display_name": "Python 3"
    }
  },
  "nbformat": 4,
  "nbformat_minor": 5
}