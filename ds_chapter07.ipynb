{
  "cells": [
    {
      "cell_type": "markdown",
      "metadata": {
        "id": "view-in-github",
        "colab_type": "text"
      },
      "source": [
        "<a href=\"https://colab.research.google.com/github/gheniabla/Python-DS/blob/main/ds_chapter07.ipynb\" target=\"_parent\"><img src=\"https://colab.research.google.com/assets/colab-badge.svg\" alt=\"Open In Colab\"/></a>"
      ]
    },
    {
      "cell_type": "markdown",
      "id": "6bb78972",
      "metadata": {
        "id": "6bb78972"
      },
      "source": [
        "# DS-Chapter 07 – Linked Lists"
      ]
    },
    {
      "cell_type": "markdown",
      "id": "01345c35",
      "metadata": {
        "id": "01345c35"
      },
      "source": [
        "\n",
        "## Introduction\n",
        "\n",
        "A **linked list** is a linear data structure where elements (called **nodes**) are not stored at contiguous memory locations. Instead, each node points to the next, forming a chain.\n",
        "\n",
        "Unlike arrays or Python lists, linked lists do **not** require a fixed size, and inserting or deleting elements is efficient—especially when done at the beginning or middle of the list.\n",
        "\n",
        "### Types of Linked Lists:\n",
        "- **Singly Linked List**: Each node points only to the next node.\n",
        "- **Doubly Linked List**: Each node points to both the next and previous nodes.\n",
        "- **Circular Linked List**: The last node points back to the head (not covered here).\n"
      ]
    },
    {
      "cell_type": "markdown",
      "id": "91c5dc27",
      "metadata": {
        "id": "91c5dc27"
      },
      "source": [
        "\n",
        "## Singly Linked List\n",
        "\n",
        "Each node in a singly linked list contains:\n",
        "- a `data` field to store the value\n",
        "- a `next` pointer to reference the next node\n",
        "\n",
        "**Visualization:**\n",
        "```\n",
        "[10] -> [20] -> [30] -> None\n",
        "```\n",
        "\n",
        "Let's implement it.\n"
      ]
    },
    {
      "cell_type": "code",
      "execution_count": null,
      "id": "cd4aeb7c",
      "metadata": {
        "id": "cd4aeb7c",
        "outputId": "0da25a88-8f78-4471-9875-c1c45e0a19a8",
        "colab": {
          "base_uri": "https://localhost:8080/"
        }
      },
      "outputs": [
        {
          "output_type": "stream",
          "name": "stdout",
          "text": [
            "10 -> 20 -> 30 -> None\n"
          ]
        }
      ],
      "source": [
        "\n",
        "class Node:\n",
        "    def __init__(self, data):\n",
        "        self.data = data\n",
        "        self.next = None\n",
        "\n",
        "class SinglyLinkedList:\n",
        "    def __init__(self):\n",
        "        self.head = None\n",
        "\n",
        "    def append(self, data):\n",
        "        new_node = Node(data)\n",
        "        if not self.head:\n",
        "            self.head = new_node\n",
        "            return\n",
        "        current = self.head\n",
        "        while current.next:\n",
        "            current = current.next\n",
        "        current.next = new_node\n",
        "\n",
        "    def display(self):\n",
        "        current = self.head\n",
        "        while current:\n",
        "            print(current.data, end=\" -> \")\n",
        "            current = current.next\n",
        "        print(\"None\")\n",
        "\n",
        "# Example usage\n",
        "sll = SinglyLinkedList()\n",
        "sll.append(10)\n",
        "sll.append(20)\n",
        "sll.append(30)\n",
        "sll.display()\n"
      ]
    },
    {
      "cell_type": "markdown",
      "id": "65826da2",
      "metadata": {
        "id": "65826da2"
      },
      "source": [
        "\n",
        "## Doubly Linked List\n",
        "\n",
        "Each node has:\n",
        "- `data`: the value\n",
        "- `prev`: a pointer to the previous node\n",
        "- `next`: a pointer to the next node\n",
        "\n",
        "**Visualization:**\n",
        "```\n",
        "None <- [A] <-> [B] <-> [C] -> None\n",
        "```\n",
        "\n",
        "This enables **bidirectional traversal**.\n"
      ]
    },
    {
      "cell_type": "code",
      "execution_count": null,
      "id": "1de58069",
      "metadata": {
        "id": "1de58069",
        "outputId": "88039e4f-ab39-4d14-a26b-365272eb5df9",
        "colab": {
          "base_uri": "https://localhost:8080/"
        }
      },
      "outputs": [
        {
          "output_type": "stream",
          "name": "stdout",
          "text": [
            "A <-> B <-> C <-> None\n"
          ]
        }
      ],
      "source": [
        "\n",
        "class DNode:\n",
        "    def __init__(self, data):\n",
        "        self.data = data\n",
        "        self.prev = None\n",
        "        self.next = None\n",
        "\n",
        "class DoublyLinkedList:\n",
        "    def __init__(self):\n",
        "        self.head = None\n",
        "\n",
        "    def append(self, data):\n",
        "        new_node = DNode(data)\n",
        "        if not self.head:\n",
        "            self.head = new_node\n",
        "            return\n",
        "        current = self.head\n",
        "        while current.next:\n",
        "            current = current.next\n",
        "        current.next = new_node\n",
        "        new_node.prev = current\n",
        "\n",
        "    def display_forward(self):\n",
        "        current = self.head\n",
        "        while current:\n",
        "            print(current.data, end=\" <-> \")\n",
        "            current = current.next\n",
        "        print(\"None\")\n",
        "\n",
        "# Example usage\n",
        "dll = DoublyLinkedList()\n",
        "dll.append('A')\n",
        "dll.append('B')\n",
        "dll.append('C')\n",
        "dll.display_forward()\n"
      ]
    },
    {
      "cell_type": "markdown",
      "id": "bc61e3be",
      "metadata": {
        "id": "bc61e3be"
      },
      "source": [
        "\n",
        "## Advantages of Linked Lists\n",
        "\n",
        "- **Dynamic Size**: No need to declare size in advance.\n",
        "- **Efficient Insert/Delete**: Especially at beginning/middle.\n",
        "\n",
        "## Disadvantages\n",
        "\n",
        "- **Sequential Access**: Cannot randomly access elements.\n",
        "- **Extra Memory**: Requires pointers for each node.\n",
        "\n",
        "## Common Operations (SLL)\n",
        "\n",
        "| Operation       | Time Complexity |\n",
        "|----------------|------------------|\n",
        "| Append         | O(n)             |\n",
        "| Prepend        | O(1)             |\n",
        "| Search         | O(n)             |\n",
        "| Delete         | O(n)             |\n"
      ]
    },
    {
      "cell_type": "markdown",
      "id": "6afb1f45",
      "metadata": {
        "id": "6afb1f45"
      },
      "source": [
        "\n",
        "## Try It Yourself 💡\n",
        "\n",
        "1. Implement a `prepend(data)` method in `SinglyLinkedList`.\n",
        "2. Add a `delete(data)` method that removes the first occurrence of a value.\n",
        "3. Implement a `display_reverse()` method in `DoublyLinkedList`.\n"
      ]
    }
  ],
  "metadata": {
    "colab": {
      "provenance": [],
      "include_colab_link": true
    },
    "language_info": {
      "name": "python"
    },
    "kernelspec": {
      "name": "python3",
      "display_name": "Python 3"
    }
  },
  "nbformat": 4,
  "nbformat_minor": 5
}