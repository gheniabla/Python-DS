{
 "cells": [
  {
   "cell_type": "markdown",
   "id": "7bfdcd01",
   "metadata": {},
   "source": [
    "<a href=\"https://colab.research.google.com/github/gheniabla/DataStructures/blob/main/chapters/DS-Chapter02.ipynb\" target=\"_parent\"><img src=\"https://colab.research.google.com/assets/colab-badge.svg\" alt=\"Open In Colab\"/></a>"
   ]
  },
  {
   "cell_type": "markdown",
   "id": "6296ff25",
   "metadata": {},
   "source": [
    "# DS-Chapter 02 – Basic Python Review for Data Structures"
   ]
  },
  {
   "cell_type": "markdown",
   "id": "888f5e3a",
   "metadata": {},
   "source": [
    "Before diving into data structures, it's important to have a solid foundation in core Python programming. This chapter reviews essential Python concepts you'll use throughout this course.\n",
    "\n",
    "**Topics covered:**\n",
    "- Sequence, Selection, Iteration\n",
    "- Expressions and Variables\n",
    "- Collections (Strings, Lists, Tuples, Dictionaries, Sets)\n",
    "- Iterating over Collections\n",
    "- Control Flow\n",
    "- Modules and Imports"
   ]
  },
  {
   "cell_type": "markdown",
   "id": "2e5a080c",
   "metadata": {},
   "source": [
    "## 2.1 Sequence, Selection, and Iteration\n",
    "- **Sequence**: Code executes in order, line by line.\n",
    "- **Selection**: Use `if` statements to make decisions.\n",
    "- **Iteration**: Loop through data using `for` or `while` loops."
   ]
  },
  {
   "cell_type": "code",
   "execution_count": null,
   "id": "7f22cbc3",
   "metadata": {},
   "outputs": [],
   "source": [
    "# Sequence\n",
    "x = 2\n",
    "y = x + 3\n",
    "print(\"y is\", y)"
   ]
  },
  {
   "cell_type": "code",
   "execution_count": null,
   "id": "5408a87a",
   "metadata": {},
   "outputs": [],
   "source": [
    "# Selection\n",
    "if y > 4:\n",
    "    print(\"y is greater than 4\")"
   ]
  },
  {
   "cell_type": "code",
   "execution_count": null,
   "id": "127ec47c",
   "metadata": {},
   "outputs": [],
   "source": [
    "# Iteration\n",
    "for i in range(3):\n",
    "    print(\"Iteration\", i)"
   ]
  },
  {
   "cell_type": "markdown",
   "id": "c706ac78",
   "metadata": {},
   "source": [
    "## 2.2 Expressions and Variables\n",
    "- **Expressions** are combinations of values and operators that Python evaluates.\n",
    "- **Variables** store values for later use."
   ]
  },
  {
   "cell_type": "code",
   "execution_count": null,
   "id": "de802586",
   "metadata": {},
   "outputs": [],
   "source": [
    "a = 10\n",
    "b = 5\n",
    "print(\"Sum:\", a + b)\n",
    "print(\"Comparison:\", a > b)"
   ]
  },
  {
   "cell_type": "markdown",
   "id": "337d4232",
   "metadata": {},
   "source": [
    "## 2.3 Collections in Python\n",
    "Python provides built-in data types to store collections of items:\n",
    "- **List**: Ordered, mutable\n",
    "- **Tuple**: Ordered, immutable\n",
    "- **Set**: Unordered, no duplicates\n",
    "- **Dictionary**: Key-value pairs"
   ]
  },
  {
   "cell_type": "code",
   "execution_count": null,
   "id": "910ee78a",
   "metadata": {},
   "outputs": [],
   "source": [
    "# List\n",
    "fruits = ['apple', 'banana']\n",
    "fruits.append('cherry')\n",
    "print(fruits)"
   ]
  },
  {
   "cell_type": "code",
   "execution_count": null,
   "id": "d1c78bb2",
   "metadata": {},
   "outputs": [],
   "source": [
    "# Tuple\n",
    "point = (10, 20)\n",
    "print(\"X coordinate:\", point[0])"
   ]
  },
  {
   "cell_type": "code",
   "execution_count": null,
   "id": "3fe5f72a",
   "metadata": {},
   "outputs": [],
   "source": [
    "# Set\n",
    "unique_nums = {1, 2, 2, 3}\n",
    "print(unique_nums)"
   ]
  },
  {
   "cell_type": "code",
   "execution_count": null,
   "id": "4ed640b7",
   "metadata": {},
   "outputs": [],
   "source": [
    "# Dictionary\n",
    "student = {'name': 'Alice', 'age': 21}\n",
    "print(student['name'])"
   ]
  },
  {
   "cell_type": "markdown",
   "id": "bcf82c2e",
   "metadata": {},
   "source": [
    "## 2.4 Iterating Over Collections\n",
    "Use `for` loops to process each item in a collection."
   ]
  },
  {
   "cell_type": "code",
   "execution_count": null,
   "id": "ea7267c3",
   "metadata": {},
   "outputs": [],
   "source": [
    "names = ['Alice', 'Bob', 'Charlie']\n",
    "for name in names:\n",
    "    print(\"Hello\", name)"
   ]
  },
  {
   "cell_type": "markdown",
   "id": "e075ac06",
   "metadata": {},
   "source": [
    "## 2.5 Control Flow\n",
    "- **`if` / `elif` / `else`** for decision-making\n",
    "- **`while`** for loops that repeat based on a condition\n",
    "- **`try` / `except`** for error handling"
   ]
  },
  {
   "cell_type": "code",
   "execution_count": null,
   "id": "26f920c5",
   "metadata": {},
   "outputs": [],
   "source": [
    "age = 18\n",
    "if age >= 18:\n",
    "    print(\"Adult\")\n",
    "else:\n",
    "    print(\"Minor\")"
   ]
  },
  {
   "cell_type": "code",
   "execution_count": null,
   "id": "38c22ddb",
   "metadata": {},
   "outputs": [],
   "source": [
    "count = 0\n",
    "while count < 3:\n",
    "    print(\"Count is\", count)\n",
    "    count += 1"
   ]
  },
  {
   "cell_type": "code",
   "execution_count": null,
   "id": "5fc87a7f",
   "metadata": {},
   "outputs": [],
   "source": [
    "try:\n",
    "    num = int(\"abc\")\n",
    "except ValueError:\n",
    "    print(\"Invalid number\")"
   ]
  },
  {
   "cell_type": "markdown",
   "id": "02b02d2d",
   "metadata": {},
   "source": [
    "## 2.6 Modules and Imports\n",
    "Python code can be split across multiple files. Use `import` to bring in other modules."
   ]
  },
  {
   "cell_type": "code",
   "execution_count": null,
   "id": "c9a0e54a",
   "metadata": {},
   "outputs": [],
   "source": [
    "import math\n",
    "print(\"Square root of 16 is\", math.sqrt(16))"
   ]
  }
 ],
 "metadata": {},
 "nbformat": 4,
 "nbformat_minor": 5
}
