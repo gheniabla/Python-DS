{
 "cells": [
  {
   "cell_type": "markdown",
   "id": "252ac7e2",
   "metadata": {},
   "source": [
    "<a href=\"https://colab.research.google.com/github/gheniabla/DataStructures/blob/main/chapters/DS-Chapter03.ipynb\" target=\"_parent\"><img src=\"https://colab.research.google.com/assets/colab-badge.svg\" alt=\"Open In Colab\"/></a>"
   ]
  },
  {
   "cell_type": "markdown",
   "id": "537f66e7",
   "metadata": {},
   "source": [
    "# DS-Chapter 03 – Object-Oriented Programming in Python"
   ]
  },
  {
   "cell_type": "markdown",
   "id": "c785ac90",
   "metadata": {},
   "source": [
    "In this chapter, we explore **Object-Oriented Programming (OOP)** in Python. OOP is a programming paradigm that organizes software design around data, or objects, rather than functions and logic.\n",
    "\n",
    "**Core OOP concepts include:**\n",
    "- Classes and Objects\n",
    "- Encapsulation\n",
    "- Inheritance\n",
    "- Polymorphism (Duck Typing in Python)\n",
    "- Composition\n",
    "\n",
    "By the end of this chapter, you will understand how to create and use classes, how to design relationships between them, and how to leverage Python's flexible OOP features to write clean, modular, and reusable code."
   ]
  },
  {
   "cell_type": "markdown",
   "id": "ebfdd003",
   "metadata": {},
   "source": [
    "## 3.1 Classes and Objects\n",
    "**Class**: A blueprint for creating objects (instances).\n",
    "\n",
    "**Object**: An instance of a class. Each object has attributes (data) and methods (functions).\n",
    "\n",
    "Let’s define a simple class `Dog` that models a dog’s name and behavior."
   ]
  },
  {
   "cell_type": "code",
   "execution_count": null,
   "id": "a34000d8",
   "metadata": {},
   "outputs": [],
   "source": [
    "class Dog:\n",
    "    def __init__(self, name):\n",
    "        self.name = name\n",
    "\n",
    "    def bark(self):\n",
    "        print(f\"{self.name} says woof!\")\n",
    "\n",
    "# Create objects\n",
    "dog1 = Dog(\"Rex\")\n",
    "dog2 = Dog(\"Bella\")\n",
    "dog1.bark()\n",
    "dog2.bark()"
   ]
  },
  {
   "cell_type": "markdown",
   "id": "3eab1147",
   "metadata": {},
   "source": [
    "## 3.2 Encapsulation\n",
    "**Encapsulation** is the bundling of data (attributes) and methods that operate on that data within a single unit (class).\n",
    "\n",
    "Python uses naming conventions to indicate private members (e.g., `_balance`).\n",
    "Encapsulation allows data hiding and protects the internal state of an object."
   ]
  },
  {
   "cell_type": "code",
   "execution_count": null,
   "id": "0cfa67ee",
   "metadata": {},
   "outputs": [],
   "source": [
    "class BankAccount:\n",
    "    def __init__(self, owner, balance):\n",
    "        self.owner = owner\n",
    "        self._balance = balance  # private by convention\n",
    "\n",
    "    def deposit(self, amount):\n",
    "        self._balance += amount\n",
    "\n",
    "    def withdraw(self, amount):\n",
    "        if amount <= self._balance:\n",
    "            self._balance -= amount\n",
    "        else:\n",
    "            print(\"Insufficient funds\")\n",
    "\n",
    "    def get_balance(self):\n",
    "        return self._balance\n",
    "\n",
    "acct = BankAccount(\"Alice\", 100)\n",
    "acct.deposit(50)\n",
    "acct.withdraw(30)\n",
    "print(\"Balance:\", acct.get_balance())"
   ]
  },
  {
   "cell_type": "markdown",
   "id": "f8ceee68",
   "metadata": {},
   "source": [
    "## 3.3 Inheritance\n",
    "**Inheritance** allows a class (child/subclass) to inherit methods and properties from another class (parent/superclass).\n",
    "\n",
    "This promotes code reuse and reflects natural hierarchies."
   ]
  },
  {
   "cell_type": "code",
   "execution_count": null,
   "id": "a0d5e251",
   "metadata": {},
   "outputs": [],
   "source": [
    "class Animal:\n",
    "    def __init__(self, name):\n",
    "        self.name = name\n",
    "\n",
    "    def speak(self):\n",
    "        print(f\"{self.name} makes a sound\")\n",
    "\n",
    "class Cat(Animal):\n",
    "    def speak(self):\n",
    "        print(f\"{self.name} says meow\")\n",
    "\n",
    "class Dog(Animal):\n",
    "    def speak(self):\n",
    "        print(f\"{self.name} says woof\")\n",
    "\n",
    "pets = [Cat(\"Luna\"), Dog(\"Buddy\"), Animal(\"Creature\")]\n",
    "for pet in pets:\n",
    "    pet.speak()"
   ]
  },
  {
   "cell_type": "markdown",
   "id": "6d754a71",
   "metadata": {},
   "source": [
    "## 3.4 Duck Typing (Polymorphism)\n",
    "**Duck Typing** is a concept in Python where the type of an object is less important than the methods it defines.\n",
    "\n",
    "If it walks like a duck and quacks like a duck, it's a duck."
   ]
  },
  {
   "cell_type": "code",
   "execution_count": null,
   "id": "80ff093d",
   "metadata": {},
   "outputs": [],
   "source": [
    "class Duck:\n",
    "    def quack(self):\n",
    "        print(\"Quack!\")\n",
    "\n",
    "class Person:\n",
    "    def quack(self):\n",
    "        print(\"I'm pretending to be a duck!\")\n",
    "\n",
    "def make_it_quack(thing):\n",
    "    thing.quack()\n",
    "\n",
    "make_it_quack(Duck())\n",
    "make_it_quack(Person())"
   ]
  },
  {
   "cell_type": "markdown",
   "id": "611aa8fd",
   "metadata": {},
   "source": [
    "## 3.5 Composition\n",
    "**Composition** models a \"has-a\" relationship by including one class inside another.\n",
    "\n",
    "It’s often preferred over inheritance for code flexibility."
   ]
  },
  {
   "cell_type": "code",
   "execution_count": null,
   "id": "47c85245",
   "metadata": {},
   "outputs": [],
   "source": [
    "class Engine:\n",
    "    def start(self):\n",
    "        print(\"Engine starts\")\n",
    "\n",
    "class Car:\n",
    "    def __init__(self):\n",
    "        self.engine = Engine()\n",
    "\n",
    "    def drive(self):\n",
    "        self.engine.start()\n",
    "        print(\"Car is driving\")\n",
    "\n",
    "my_car = Car()\n",
    "my_car.drive()"
   ]
  }
 ],
 "metadata": {},
 "nbformat": 4,
 "nbformat_minor": 5
}
