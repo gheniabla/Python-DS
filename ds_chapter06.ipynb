{
  "cells": [
    {
      "cell_type": "markdown",
      "metadata": {
        "id": "view-in-github",
        "colab_type": "text"
      },
      "source": [
        "<a href=\"https://colab.research.google.com/github/gheniabla/Python-DS/blob/main/ds_chapter06.ipynb\" target=\"_parent\"><img src=\"https://colab.research.google.com/assets/colab-badge.svg\" alt=\"Open In Colab\"/></a>"
      ]
    },
    {
      "cell_type": "markdown",
      "id": "6115696c",
      "metadata": {
        "id": "6115696c"
      },
      "source": [
        "# DS-Chapter 06 – Stacks and Queues"
      ]
    },
    {
      "cell_type": "markdown",
      "id": "b4d0085f",
      "metadata": {
        "id": "b4d0085f"
      },
      "source": [
        "In this chapter, we will explore two foundational data structures:\n",
        "\n",
        "- **Stack** (LIFO – Last In First Out)\n",
        "- **Queue** (FIFO – First In First Out)\n",
        "\n",
        "We'll cover their definitions, operations, use cases, and how to implement them using Python lists and the `collections` module."
      ]
    },
    {
      "cell_type": "markdown",
      "id": "056b3cf6",
      "metadata": {
        "id": "056b3cf6"
      },
      "source": [
        "## 6.1 Stack\n",
        "A **stack** is a collection that follows the Last-In-First-Out (LIFO) principle.\n",
        "\n",
        "**Operations:**\n",
        "- `push` – Add item to top\n",
        "- `pop` – Remove top item\n",
        "- `peek` – View top item without removing\n",
        "- `is_empty` – Check if stack is empty"
      ]
    },
    {
      "cell_type": "code",
      "execution_count": null,
      "id": "2bb12eb6",
      "metadata": {
        "colab": {
          "base_uri": "https://localhost:8080/"
        },
        "id": "2bb12eb6",
        "outputId": "6fd5a28d-8e44-4b84-f591-30cd59e62715"
      },
      "outputs": [
        {
          "output_type": "stream",
          "name": "stdout",
          "text": [
            "c\n",
            "b\n"
          ]
        }
      ],
      "source": [
        "class Stack:\n",
        "    def __init__(self):\n",
        "        self.items = []\n",
        "\n",
        "    def push(self, item):\n",
        "        self.items.append(item)\n",
        "\n",
        "    def pop(self):\n",
        "        return self.items.pop()\n",
        "\n",
        "    def peek(self):\n",
        "        return self.items[-1]\n",
        "\n",
        "    def is_empty(self):\n",
        "        return len(self.items) == 0\n",
        "\n",
        "    def size(self):\n",
        "        return len(self.items)\n",
        "\n",
        "# Example usage\n",
        "s = Stack()\n",
        "s.push('a')\n",
        "s.push('b')\n",
        "s.push('c')\n",
        "print(s.pop())  # c\n",
        "print(s.peek()) # b"
      ]
    },
    {
      "cell_type": "markdown",
      "id": "8d8b6f83",
      "metadata": {
        "id": "8d8b6f83"
      },
      "source": [
        "## 6.2 Queue\n",
        "A **queue** is a collection that follows the First-In-First-Out (FIFO) principle.\n",
        "\n",
        "**Operations:**\n",
        "- `enqueue` – Add to rear\n",
        "- `dequeue` – Remove from front\n",
        "- `peek` – View front\n",
        "- `is_empty` – Check if queue is empty"
      ]
    },
    {
      "cell_type": "code",
      "execution_count": null,
      "id": "357bc75b",
      "metadata": {
        "colab": {
          "base_uri": "https://localhost:8080/"
        },
        "id": "357bc75b",
        "outputId": "f5d4c607-9726-4a83-f490-9c2958880c8f"
      },
      "outputs": [
        {
          "output_type": "stream",
          "name": "stdout",
          "text": [
            "x\n",
            "y\n"
          ]
        }
      ],
      "source": [
        "from collections import deque\n",
        "\n",
        "class Queue:\n",
        "    def __init__(self):\n",
        "        self.items = deque()\n",
        "\n",
        "    def enqueue(self, item):\n",
        "        self.items.append(item)\n",
        "\n",
        "    def dequeue(self):\n",
        "        return self.items.popleft()\n",
        "\n",
        "    def peek(self):\n",
        "        return self.items[0]\n",
        "\n",
        "    def is_empty(self):\n",
        "        return len(self.items) == 0\n",
        "\n",
        "    def size(self):\n",
        "        return len(self.items)\n",
        "\n",
        "# Example usage\n",
        "q = Queue()\n",
        "q.enqueue('x')\n",
        "q.enqueue('y')\n",
        "q.enqueue('z')\n",
        "print(q.dequeue())  # x\n",
        "print(q.peek())     # y"
      ]
    },
    {
      "cell_type": "markdown",
      "id": "34530150",
      "metadata": {
        "id": "34530150"
      },
      "source": [
        "## 6.3 Use Cases\n",
        "**Stacks:**\n",
        "- Undo functionality\n",
        "- Syntax parsing (e.g., parentheses)\n",
        "- Call stack in programming\n",
        "\n",
        "**Queues:**\n",
        "- Printer queues\n",
        "- CPU scheduling\n",
        "- Breadth-first search (BFS)"
      ]
    },
    {
      "cell_type": "markdown",
      "id": "f27b3186",
      "metadata": {
        "id": "f27b3186"
      },
      "source": [
        "## 6.4 Python Lists for Stacks and Queues\n",
        "- Python lists can be used for stacks using `append()` and `pop()`.\n",
        "- For queues, `collections.deque` is more efficient than list."
      ]
    },
    {
      "cell_type": "code",
      "execution_count": null,
      "id": "57a288d2",
      "metadata": {
        "colab": {
          "base_uri": "https://localhost:8080/"
        },
        "id": "57a288d2",
        "outputId": "a31f66ea-d46b-475c-8a67-30737240b1f6"
      },
      "outputs": [
        {
          "output_type": "stream",
          "name": "stdout",
          "text": [
            "20\n",
            "1\n"
          ]
        }
      ],
      "source": [
        "# Stack with list\n",
        "stack = []\n",
        "stack.append(10)\n",
        "stack.append(20)\n",
        "print(stack.pop())\n",
        "\n",
        "# Queue with deque\n",
        "from collections import deque\n",
        "queue = deque()\n",
        "queue.append(1)\n",
        "queue.append(2)\n",
        "print(queue.popleft())"
      ]
    }
  ],
  "metadata": {
    "colab": {
      "provenance": [],
      "include_colab_link": true
    },
    "language_info": {
      "name": "python"
    },
    "kernelspec": {
      "name": "python3",
      "display_name": "Python 3"
    }
  },
  "nbformat": 4,
  "nbformat_minor": 5
}