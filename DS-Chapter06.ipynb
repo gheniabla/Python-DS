{
 "cells": [
  {
   "cell_type": "markdown",
   "id": "aa6ea6f9",
   "metadata": {},
   "source": [
    "<a href=\"https://colab.research.google.com/github/gheniabla/DataStructures/blob/main/chapters/DS-Chapter06.ipynb\" target=\"_parent\"><img src=\"https://colab.research.google.com/assets/colab-badge.svg\" alt=\"Open In Colab\"/></a>"
   ]
  },
  {
   "cell_type": "markdown",
   "id": "6115696c",
   "metadata": {},
   "source": [
    "# DS-Chapter 06 – Stacks and Queues"
   ]
  },
  {
   "cell_type": "markdown",
   "id": "b4d0085f",
   "metadata": {},
   "source": [
    "In this chapter, we will explore two foundational data structures:\n",
    "\n",
    "- **Stack** (LIFO – Last In First Out)\n",
    "- **Queue** (FIFO – First In First Out)\n",
    "\n",
    "We'll cover their definitions, operations, use cases, and how to implement them using Python lists and the `collections` module."
   ]
  },
  {
   "cell_type": "markdown",
   "id": "056b3cf6",
   "metadata": {},
   "source": [
    "## 6.1 Stack\n",
    "A **stack** is a collection that follows the Last-In-First-Out (LIFO) principle.\n",
    "\n",
    "**Operations:**\n",
    "- `push` – Add item to top\n",
    "- `pop` – Remove top item\n",
    "- `peek` – View top item without removing\n",
    "- `is_empty` – Check if stack is empty"
   ]
  },
  {
   "cell_type": "code",
   "execution_count": null,
   "id": "2bb12eb6",
   "metadata": {},
   "outputs": [],
   "source": [
    "class Stack:\n",
    "    def __init__(self):\n",
    "        self.items = []\n",
    "\n",
    "    def push(self, item):\n",
    "        self.items.append(item)\n",
    "\n",
    "    def pop(self):\n",
    "        return self.items.pop()\n",
    "\n",
    "    def peek(self):\n",
    "        return self.items[-1]\n",
    "\n",
    "    def is_empty(self):\n",
    "        return len(self.items) == 0\n",
    "\n",
    "    def size(self):\n",
    "        return len(self.items)\n",
    "\n",
    "# Example usage\n",
    "s = Stack()\n",
    "s.push('a')\n",
    "s.push('b')\n",
    "s.push('c')\n",
    "print(s.pop())  # c\n",
    "print(s.peek()) # b"
   ]
  },
  {
   "cell_type": "markdown",
   "id": "8d8b6f83",
   "metadata": {},
   "source": [
    "## 6.2 Queue\n",
    "A **queue** is a collection that follows the First-In-First-Out (FIFO) principle.\n",
    "\n",
    "**Operations:**\n",
    "- `enqueue` – Add to rear\n",
    "- `dequeue` – Remove from front\n",
    "- `peek` – View front\n",
    "- `is_empty` – Check if queue is empty"
   ]
  },
  {
   "cell_type": "code",
   "execution_count": null,
   "id": "357bc75b",
   "metadata": {},
   "outputs": [],
   "source": [
    "from collections import deque\n",
    "\n",
    "class Queue:\n",
    "    def __init__(self):\n",
    "        self.items = deque()\n",
    "\n",
    "    def enqueue(self, item):\n",
    "        self.items.append(item)\n",
    "\n",
    "    def dequeue(self):\n",
    "        return self.items.popleft()\n",
    "\n",
    "    def peek(self):\n",
    "        return self.items[0]\n",
    "\n",
    "    def is_empty(self):\n",
    "        return len(self.items) == 0\n",
    "\n",
    "    def size(self):\n",
    "        return len(self.items)\n",
    "\n",
    "# Example usage\n",
    "q = Queue()\n",
    "q.enqueue('x')\n",
    "q.enqueue('y')\n",
    "q.enqueue('z')\n",
    "print(q.dequeue())  # x\n",
    "print(q.peek())     # y"
   ]
  },
  {
   "cell_type": "markdown",
   "id": "34530150",
   "metadata": {},
   "source": [
    "## 6.3 Use Cases\n",
    "**Stacks:**\n",
    "- Undo functionality\n",
    "- Syntax parsing (e.g., parentheses)\n",
    "- Call stack in programming\n",
    "\n",
    "**Queues:**\n",
    "- Printer queues\n",
    "- CPU scheduling\n",
    "- Breadth-first search (BFS)"
   ]
  },
  {
   "cell_type": "markdown",
   "id": "f27b3186",
   "metadata": {},
   "source": [
    "## 6.4 Python Lists for Stacks and Queues\n",
    "- Python lists can be used for stacks using `append()` and `pop()`.\n",
    "- For queues, `collections.deque` is more efficient than list."
   ]
  },
  {
   "cell_type": "code",
   "execution_count": null,
   "id": "57a288d2",
   "metadata": {},
   "outputs": [],
   "source": [
    "# Stack with list\n",
    "stack = []\n",
    "stack.append(10)\n",
    "stack.append(20)\n",
    "print(stack.pop())\n",
    "\n",
    "# Queue with deque\n",
    "from collections import deque\n",
    "queue = deque()\n",
    "queue.append(1)\n",
    "queue.append(2)\n",
    "print(queue.popleft())"
   ]
  }
 ],
 "metadata": {},
 "nbformat": 4,
 "nbformat_minor": 5
}
